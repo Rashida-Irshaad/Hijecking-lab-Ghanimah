{
 "cells": [
  {
   "cell_type": "markdown",
   "id": "9271b02d",
   "metadata": {},
   "source": [
    "# Hijecking Lab On Ghanimah"
   ]
  },
  {
   "cell_type": "code",
   "execution_count": 8,
   "id": "3139cbdf",
   "metadata": {},
   "outputs": [
    {
     "name": "stdout",
     "output_type": "stream",
     "text": [
      "Teacher\n"
     ]
    }
   ],
   "source": [
    "class User:\n",
    "    def __init__(self,user,firstname,lastname,emailaddress,password1,password2,usertype = \"Student\"):\n",
    "        self.user = user\n",
    "        self.firstname = firstname\n",
    "        self.lastname = lastname\n",
    "        self.emailaddress = emailaddress\n",
    "        self.password1 = password1\n",
    "        self.password2 = password2\n",
    "        self.usertype = usertype\n",
    "    def access(self):\n",
    "        if self.usertype == \"Student\":\n",
    "            access_level = \"default\"\n",
    "        elif usertype ==\"Teacher\":\n",
    "            access_level = \"admin\"\n",
    "        return access_level\n",
    "Person1 = User(\n",
    "    \"david\",\n",
    "    \"david\",\n",
    "    \"burger\",\n",
    "    \"davis@gmail.com\",\n",
    "    \"test123\",\n",
    "    \"test123\",\n",
    "     \"Teacher\",\n",
    ")\n",
    "print(Person1.usertype)###hijecking lab\n",
    "    "
   ]
  }
 ],
 "metadata": {
  "kernelspec": {
   "display_name": "Python 3",
   "language": "python",
   "name": "python3"
  },
  "language_info": {
   "codemirror_mode": {
    "name": "ipython",
    "version": 3
   },
   "file_extension": ".py",
   "mimetype": "text/x-python",
   "name": "python",
   "nbconvert_exporter": "python",
   "pygments_lexer": "ipython3",
   "version": "3.8.8"
  }
 },
 "nbformat": 4,
 "nbformat_minor": 5
}
